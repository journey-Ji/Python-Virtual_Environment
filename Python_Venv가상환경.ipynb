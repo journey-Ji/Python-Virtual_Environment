{
  "nbformat": 4,
  "nbformat_minor": 0,
  "metadata": {
    "colab": {
      "name": "Python Venv가상환경.ipynb",
      "provenance": [],
      "collapsed_sections": [],
      "authorship_tag": "ABX9TyOysVEDZ2AUHCMY31MRFCvY",
      "include_colab_link": true
    },
    "kernelspec": {
      "name": "python3",
      "display_name": "Python 3"
    }
  },
  "cells": [
    {
      "cell_type": "markdown",
      "metadata": {
        "id": "view-in-github",
        "colab_type": "text"
      },
      "source": [
        "<a href=\"https://colab.research.google.com/github/journey-Ji/Python-Virtual_Environment/blob/main/Python_Venv%EA%B0%80%EC%83%81%ED%99%98%EA%B2%BD.ipynb\" target=\"_parent\"><img src=\"https://colab.research.google.com/assets/colab-badge.svg\" alt=\"Open In Colab\"/></a>"
      ]
    },
    {
      "cell_type": "code",
      "metadata": {
        "id": "qlDf__4MhmUH"
      },
      "source": [
        ""
      ],
      "execution_count": null,
      "outputs": []
    },
    {
      "cell_type": "markdown",
      "metadata": {
        "id": "Cj1us65Uhr_5"
      },
      "source": [
        "본 코드는 맥 OS기준하여 작성됩니다.\n"
      ]
    },
    {
      "cell_type": "markdown",
      "metadata": {
        "id": "M1eJgipZiXXJ"
      },
      "source": [
        "가상환경을 설치하고 가상환경 내에서 패키지 및 모듈을 설치하거나 작업을 수행하면\n",
        "\n",
        "해당 작업들은 가상환경 내에서만 효력을 발휘하게 된다.\n",
        "\n",
        "따라서, 작업을 분리하여서 할 필요가 있을 경우에 다음처럼 가상환경을 생성 및 활용하게 된다."
      ]
    },
    {
      "cell_type": "code",
      "metadata": {
        "id": "ZT3r56mUhxXo"
      },
      "source": [
        "#가상환경 생성\n",
        "python3 -m venv (생성할 가상환경 이름)\n",
        "python3 -m venv selenium\n"
      ],
      "execution_count": null,
      "outputs": []
    },
    {
      "cell_type": "code",
      "metadata": {
        "id": "MGFxJR5SiCCk"
      },
      "source": [
        "#가상환경 활성화\n",
        "source (가상환경 이름)/bin/activate\n",
        "source selenium/bin/activate\n",
        "\n"
      ],
      "execution_count": null,
      "outputs": []
    },
    {
      "cell_type": "code",
      "metadata": {
        "id": "-yEfdumJiOG9"
      },
      "source": [
        "#가상환경 비활성화\n",
        "deactivate"
      ],
      "execution_count": null,
      "outputs": []
    },
    {
      "cell_type": "code",
      "metadata": {
        "id": "We0HyxfbiwWU"
      },
      "source": [
        "#selenium 설치\n",
        "pip install selenium "
      ],
      "execution_count": null,
      "outputs": []
    },
    {
      "cell_type": "code",
      "metadata": {
        "id": "q-zkQYzHi0iF"
      },
      "source": [
        ""
      ],
      "execution_count": null,
      "outputs": []
    }
  ]
}